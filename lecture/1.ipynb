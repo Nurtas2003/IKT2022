{
 "cells": [
  {
   "cell_type": "code",
   "execution_count": null,
   "metadata": {},
   "outputs": [],
   "source": [
    "import numpy as np\n",
    "import sklearn.linear_model as skmod"
   ]
  },
  {
   "cell_type": "code",
   "execution_count": null,
   "metadata": {},
   "outputs": [],
   "source": [
    "alt = [3.25, 0.816, 4.376, 1.314, 3.982, 2.957, 2.482, 3.7]\n",
    "n_goats = [21, 22, 13, 25, 17, 23, 23, 27]"
   ]
  },
  {
   "cell_type": "code",
   "execution_count": null,
   "metadata": {},
   "outputs": [],
   "source": [
    "arr_x = np.array(alt)\n",
    "arr_x = arr_x.reshape(-1,1)\n",
    "print(arr_x)\n",
    "arr_y = np.array(n_goats).reshape(-1,1)\n",
    "print(arr_y)"
   ]
  },
  {
   "cell_type": "code",
   "execution_count": null,
   "metadata": {},
   "outputs": [],
   "source": [
    "import matplotlib.pyplot as plt\n",
    "plt.scatter(arr_x, arr_y)"
   ]
  },
  {
   "cell_type": "code",
   "execution_count": null,
   "metadata": {},
   "outputs": [],
   "source": [
    "model = skmod.LinearRegression()"
   ]
  },
  {
   "cell_type": "code",
   "execution_count": null,
   "metadata": {},
   "outputs": [],
   "source": [
    "model_trained = model.fit(arr_x, arr_y)"
   ]
  },
  {
   "cell_type": "code",
   "execution_count": null,
   "metadata": {},
   "outputs": [],
   "source": [
    "#get the result: the intercept (b)(.intercept_), the coeff (w1)(.coef_) \n",
    "#and the R2 (.score(x, y))\n",
    "print(model_trained.coef_)\n",
    "print(model_trained.intercept_)\n",
    "#Equation is: y' = -1.83*x + 26.6\n",
    "print(model_trained.score(arr_x, arr_y))"
   ]
  }
 ],
 "metadata": {
  "kernelspec": {
   "display_name": "Python 3.9.12 ('base')",
   "language": "python",
   "name": "python3"
  },
  "language_info": {
   "name": "python",
   "version": "3.9.12"
  },
  "orig_nbformat": 4,
  "vscode": {
   "interpreter": {
    "hash": "57650012d7d93ff23c17abde64753dcf859f2cb5e28c120d8bc071520d3c1087"
   }
  }
 },
 "nbformat": 4,
 "nbformat_minor": 2
}
